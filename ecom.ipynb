{
 "cells": [
  {
   "cell_type": "code",
   "execution_count": 266,
   "metadata": {},
   "outputs": [],
   "source": [
    "import pandas as pd\n",
    "import numpy as np"
   ]
  },
  {
   "cell_type": "markdown",
   "metadata": {},
   "source": [
    "ФИЛЬТРАЦИЯ DF ПО ТОВАРАМ-ИНДИКАТОРАМ В СООТВЕТСТВИИ С НАИБОЛЕЕ ПОПУЛЯРНЫМИ РАЗМЕРАМИ ПРЕДМЕТОВ"
   ]
  },
  {
   "cell_type": "code",
   "execution_count": 267,
   "metadata": {},
   "outputs": [],
   "source": [
    "# читаю файл для получения списка ссылок\n",
    "urls = pd.read_csv('links.csv')\n",
    "urls = urls['Ссылка'].tolist()\n",
    "\n",
    "# из ecom-файла достаю все данные и сохраняю их в DataFrame\n",
    "df1 = pd.read_csv('ecom.csv')\n",
    "df1 = df1.drop_duplicates()\n",
    "\n",
    "# вытаскиваю только наши ссылки для дальнейшего мониторинга\n",
    "links = []\n",
    "for url in urls:\n",
    "    try:\n",
    "        if '585zolotoy' in url:\n",
    "            links.append(url)\n",
    "    except:\n",
    "        continue\n",
    "\n",
    "# извлекаю из ссылок артикулы\n",
    "urls = []\n",
    "for link in links:\n",
    "    link = link.replace('https://www.585zolotoy.ru/catalog/products/', '')\n",
    "    if '/' in link:\n",
    "        link = link.replace('/', '')\n",
    "    urls.append(int(link))\n",
    "\n",
    "# немного фильтрации по отслеживаемым позициям\n",
    "b = df1[(df1['article'] == 1001247)]\n",
    "df = df1.query(\"article.isin(@urls)\")\n",
    "rings = df[((df['type1'] == 'КОЛЬЦО ОБРУЧАЛЬНОЕ') & (df['size'] == 17.5)) | ((df['type1'] == 'КОЛЬЦО') & (df['size'] == 17))].drop_duplicates(['article'])\n",
    "chains = df[(df['type1'] == 'ЦЕПЬ') & (df['size'] == 45)].drop_duplicates(['article'])\n",
    "bracelets = df[(df['type1'] == 'БРАСЛЕТ') & (df['size'] == 18)].drop_duplicates(['article'])\n",
    "earrings = df[(df['type1'] == 'СЕРЬГИ')].drop_duplicates(['article'])\n",
    "earrings_kongo = df[((df['type1'] == 'СЕРЬГИ-КОНГО') & (df['size'] == 1.5))]\n",
    "other = df['type1'][(df['type1'] != 'КОЛЬЦО ОБРУЧАЛЬНОЕ') &\n",
    "                    (df['type1'] != 'КОЛЬЦО') &\n",
    "                    (df['type1'] != 'ЦЕПЬ') &\n",
    "                    (df['type1'] != 'БРАСЛЕТ') &\n",
    "                    (df['type1'] != 'СЕРЬГИ') &\n",
    "                    (df['type1'] != 'СЕРЬГИ-КОНГО')\n",
    "                    ].unique().tolist()\n",
    "df = df.query(\"type1.isin(@other)\")\n",
    "df = df.drop_duplicates(['article'])\n",
    "\n",
    "# формирую итоговый DataFrame с товарами-индикаторами \n",
    "res = pd.concat([df, rings, chains, bracelets, earrings, earrings_kongo, b], axis=0)\n",
    "res = res[['article', 'size', 'discount_price', 'label_template']]"
   ]
  },
  {
   "cell_type": "code",
   "execution_count": 268,
   "metadata": {},
   "outputs": [],
   "source": [
    "# преобразую столбец со скидками в числовой формат\n",
    "def discount(price):\n",
    "    try:\n",
    "        if '-23%' in price:\n",
    "            return 0.77\n",
    "        elif '-10%' in price:\n",
    "            return 0.90\n",
    "        elif '-15%' in price:\n",
    "            return 0.85\n",
    "        return 0\n",
    "    except:\n",
    "        return 1\n",
    "    \n",
    "res['label_template'] = res['label_template'].apply(discount)"
   ]
  }
 ],
 "metadata": {
  "kernelspec": {
   "display_name": "Python 3",
   "language": "python",
   "name": "python3"
  },
  "language_info": {
   "codemirror_mode": {
    "name": "ipython",
    "version": 3
   },
   "file_extension": ".py",
   "mimetype": "text/x-python",
   "name": "python",
   "nbconvert_exporter": "python",
   "pygments_lexer": "ipython3",
   "version": "3.12.0"
  }
 },
 "nbformat": 4,
 "nbformat_minor": 2
}
