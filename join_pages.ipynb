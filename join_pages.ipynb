{
 "cells": [
  {
   "cell_type": "code",
   "execution_count": 2,
   "metadata": {},
   "outputs": [],
   "source": [
    "import pandas as pd\n",
    "from datetime import datetime"
   ]
  },
  {
   "cell_type": "code",
   "execution_count": 3,
   "metadata": {},
   "outputs": [],
   "source": [
    "current_datetime = datetime.now()"
   ]
  },
  {
   "cell_type": "code",
   "execution_count": null,
   "metadata": {},
   "outputs": [],
   "source": [
    "current_datetime"
   ]
  },
  {
   "cell_type": "code",
   "execution_count": 5,
   "metadata": {},
   "outputs": [],
   "source": [
    "current = pd.read_excel(r'C:\\Users\\Trenkin.Sergey\\Desktop\\ТОП товары для мониторинга 28.11.2023.xlsx', sheet_name='Индикаторы') # указывать текущий файл мониторинга\n",
    "previous = pd.read_csv(r'C:\\Users\\Trenkin.Sergey\\Desktop\\trenkinsv\\проекты\\мониторинг индикаторов\\datalens\\page_1.csv', sep=';')"
   ]
  },
  {
   "cell_type": "code",
   "execution_count": 6,
   "metadata": {},
   "outputs": [],
   "source": [
    "tg = current['ТГ'].tolist()\n",
    "tn = []\n",
    "for t in tg:\n",
    "    t = t.split(' ')\n",
    "    tn.append(t[0])"
   ]
  },
  {
   "cell_type": "code",
   "execution_count": null,
   "metadata": {},
   "outputs": [],
   "source": [
    "current.columns, previous.columns"
   ]
  },
  {
   "cell_type": "code",
   "execution_count": 8,
   "metadata": {},
   "outputs": [],
   "source": [
    "current = current.drop(columns=['Цена до применения промокодов и бонусных рублей 21.11.2023',\n",
    "        'Вес 21.11.23', 'Скидка 21.11.23', 'Цена за грамм изделия 21.11.2023',\n",
    "        'Итоговая цена за изделие с промокодами и бонусными рублями 21.11.2023',\n",
    "        'Рейтинг 21.11.2023 (по цене за штуку, тяжеловесы по цене за грамм)',\n",
    "        'Изменения в цене ЗА ИЗДЕЛИЕ'], axis=1)"
   ]
  },
  {
   "cell_type": "code",
   "execution_count": 9,
   "metadata": {},
   "outputs": [],
   "source": [
    "current.insert(2, 'ТН', tn)"
   ]
  },
  {
   "cell_type": "code",
   "execution_count": null,
   "metadata": {},
   "outputs": [],
   "source": [
    "current.head()"
   ]
  },
  {
   "cell_type": "code",
   "execution_count": 11,
   "metadata": {},
   "outputs": [],
   "source": [
    "current.columns = ['Ссылка', 'Наименование изделия', 'ТН', 'ТГ', 'Площадка', 'Бренд',\n",
    "       'Проба', 'Вес ', 'Размер', 'Наименование вставки', 'Цена до применения промокодов и бонусных рублей', 'Скидка',\n",
    "       'Цена за грамм изделия',\n",
    "       'Итоговая цена за изделие с промокодами и бонусными рублями ', 'Рейтинг по цене за штуку ']"
   ]
  },
  {
   "cell_type": "code",
   "execution_count": null,
   "metadata": {},
   "outputs": [],
   "source": [
    "previous.head()"
   ]
  },
  {
   "cell_type": "code",
   "execution_count": 13,
   "metadata": {},
   "outputs": [],
   "source": [
    "current['Дата мониторинга'] = current_datetime\n",
    "current['Дата мониторинга'] = pd.to_datetime(current['Дата мониторинга'].apply(lambda x: x.strftime(\"%Y-%m-%d\")))"
   ]
  },
  {
   "cell_type": "code",
   "execution_count": 14,
   "metadata": {},
   "outputs": [],
   "source": [
    "a = previous.columns"
   ]
  },
  {
   "cell_type": "code",
   "execution_count": 15,
   "metadata": {},
   "outputs": [],
   "source": [
    "a = a.tolist()"
   ]
  },
  {
   "cell_type": "code",
   "execution_count": 16,
   "metadata": {},
   "outputs": [],
   "source": [
    "current = current[a]"
   ]
  },
  {
   "cell_type": "code",
   "execution_count": 17,
   "metadata": {},
   "outputs": [],
   "source": [
    "result = pd.concat([previous, current], ignore_index=True)"
   ]
  },
  {
   "cell_type": "code",
   "execution_count": null,
   "metadata": {},
   "outputs": [],
   "source": [
    "result.tail()"
   ]
  },
  {
   "cell_type": "code",
   "execution_count": 19,
   "metadata": {},
   "outputs": [],
   "source": [
    "result.to_csv('page_1.csv', index = False)"
   ]
  },
  {
   "cell_type": "code",
   "execution_count": 20,
   "metadata": {},
   "outputs": [],
   "source": [
    "current = pd.read_excel(r'C:\\Users\\Trenkin.Sergey\\Desktop\\ТОП товары для мониторинга 28.11.2023.xlsx', sheet_name='Тяжеловесы') # указывать текущий файл мониторинга\n",
    "previous = pd.read_csv(r'C:\\Users\\Trenkin.Sergey\\Desktop\\trenkinsv\\проекты\\мониторинг индикаторов\\datalens\\page_2.csv', sep=';')"
   ]
  },
  {
   "cell_type": "code",
   "execution_count": 22,
   "metadata": {},
   "outputs": [],
   "source": [
    "tg = current['ТГ'].tolist()\n",
    "tn = []\n",
    "for t in tg:\n",
    "    t = t.split(' ')\n",
    "    tn.append(t[0])"
   ]
  },
  {
   "cell_type": "code",
   "execution_count": 31,
   "metadata": {},
   "outputs": [],
   "source": [
    "current = current.drop(columns=['Цена до применения промокодов и бонусных рублей 21.11.2023',\n",
    "        'Вес  21.11.23', 'Скидка', 'Цена за грамм изделия 21.11.23', 'Скидка 2 (доп для SOKOLOV) ',\n",
    "        'Итоговая цена за изделие с промокодами и бонусами 21.11.23',\n",
    "        'Рейтинг по цене за грамм 21.11.23',\n",
    "        'Изменения в цене ЗА ГРАММ'], axis=1)"
   ]
  },
  {
   "cell_type": "code",
   "execution_count": null,
   "metadata": {},
   "outputs": [],
   "source": [
    "current.columns"
   ]
  },
  {
   "cell_type": "code",
   "execution_count": null,
   "metadata": {},
   "outputs": [],
   "source": [
    "previous.columns"
   ]
  },
  {
   "cell_type": "code",
   "execution_count": null,
   "metadata": {},
   "outputs": [],
   "source": [
    "previous.head(5)"
   ]
  },
  {
   "cell_type": "code",
   "execution_count": 33,
   "metadata": {},
   "outputs": [],
   "source": [
    "current.insert(2, 'ТН', tn)"
   ]
  },
  {
   "cell_type": "code",
   "execution_count": 36,
   "metadata": {},
   "outputs": [],
   "source": [
    "current.columns = ['Ссылка', 'Наименование изделия', 'ТН', 'ТГ', 'Площадка', 'Бренд',\n",
    "       'Проба', 'Наименование вставки', 'Цена до применения промокодов и бонусных рублей', 'Вес ', 'Размер', 'Скидка',\n",
    "       'Цена за грамм изделия',\n",
    "       'Итоговая цена за изделие с промокодами и бонусными рублями ', 'Рейтинг по цене за грамм']"
   ]
  },
  {
   "cell_type": "code",
   "execution_count": 37,
   "metadata": {},
   "outputs": [],
   "source": [
    "current['Дата мониторинга'] = current_datetime\n",
    "current['Дата мониторинга'] = pd.to_datetime(current['Дата мониторинга'].apply(lambda x: x.strftime(\"%Y-%m-%d\")))"
   ]
  },
  {
   "cell_type": "code",
   "execution_count": 52,
   "metadata": {},
   "outputs": [],
   "source": [
    "current = current.rename(columns={'Цена за грамм изделия': 'Цена за грамм изделия '})"
   ]
  },
  {
   "cell_type": "code",
   "execution_count": 53,
   "metadata": {},
   "outputs": [],
   "source": [
    "a = previous.columns"
   ]
  },
  {
   "cell_type": "code",
   "execution_count": 54,
   "metadata": {},
   "outputs": [],
   "source": [
    "a = a.tolist()"
   ]
  },
  {
   "cell_type": "code",
   "execution_count": 56,
   "metadata": {},
   "outputs": [],
   "source": [
    "current = current[a]"
   ]
  },
  {
   "cell_type": "code",
   "execution_count": 57,
   "metadata": {},
   "outputs": [],
   "source": [
    "result = pd.concat([previous, current], ignore_index=True)\n",
    "result.to_csv('page_2.csv', index = False)"
   ]
  },
  {
   "cell_type": "code",
   "execution_count": 58,
   "metadata": {},
   "outputs": [],
   "source": [
    "current = pd.read_excel(r'C:\\Users\\Trenkin.Sergey\\Desktop\\ТОП товары для мониторинга 28.11.2023.xlsx', sheet_name='ТОП-товары индикаторы') # указывать текущий файл мониторинга\n",
    "previous = pd.read_csv(r'C:\\Users\\Trenkin.Sergey\\Desktop\\trenkinsv\\проекты\\мониторинг индикаторов\\datalens\\page_3.csv', sep=';')"
   ]
  },
  {
   "cell_type": "code",
   "execution_count": null,
   "metadata": {},
   "outputs": [],
   "source": [
    "current.head()"
   ]
  },
  {
   "cell_type": "code",
   "execution_count": null,
   "metadata": {},
   "outputs": [],
   "source": [
    "previous.head()"
   ]
  },
  {
   "cell_type": "code",
   "execution_count": 67,
   "metadata": {},
   "outputs": [],
   "source": [
    "current = current.drop(columns=['Ссылка', 'Наименование изделия2', 'Площадка'])"
   ]
  },
  {
   "cell_type": "code",
   "execution_count": 70,
   "metadata": {},
   "outputs": [],
   "source": [
    "current.columns = ['Наименование изделия', 'ТГ', 'Итоговая цена за изделие с промокодами и бонусными рублями', 'Рейтинг', 'Минимальная цена за штуку среди конкурентов', 'Максимальная цена за штуку среди конкурентов']"
   ]
  },
  {
   "cell_type": "code",
   "execution_count": 73,
   "metadata": {},
   "outputs": [],
   "source": [
    "current['Дата'] = current_datetime\n",
    "current['Дата'] = pd.to_datetime(current['Дата'].apply(lambda x: x.strftime(\"%Y-%m-%d\")))"
   ]
  },
  {
   "cell_type": "code",
   "execution_count": 74,
   "metadata": {},
   "outputs": [],
   "source": [
    "result = pd.concat([previous, current], ignore_index=True)\n",
    "result.to_csv('page_3.csv', index = False)"
   ]
  },
  {
   "cell_type": "code",
   "execution_count": 75,
   "metadata": {},
   "outputs": [],
   "source": [
    "current = pd.read_excel(r'C:\\Users\\Trenkin.Sergey\\Desktop\\ТОП товары для мониторинга 28.11.2023.xlsx', sheet_name='ТОП-товары тяжеловесы') # указывать текущий файл мониторинга\n",
    "previous = pd.read_csv(r'C:\\Users\\Trenkin.Sergey\\Desktop\\trenkinsv\\проекты\\мониторинг индикаторов\\datalens\\page_4.csv', sep=';')"
   ]
  },
  {
   "cell_type": "code",
   "execution_count": null,
   "metadata": {},
   "outputs": [],
   "source": [
    "current.head()"
   ]
  },
  {
   "cell_type": "code",
   "execution_count": null,
   "metadata": {},
   "outputs": [],
   "source": [
    "previous.head()"
   ]
  },
  {
   "cell_type": "code",
   "execution_count": 78,
   "metadata": {},
   "outputs": [],
   "source": [
    "current = current.drop(columns=['Unnamed: 0', 'Unnamed: 1'])"
   ]
  },
  {
   "cell_type": "code",
   "execution_count": 79,
   "metadata": {},
   "outputs": [],
   "source": [
    "current.columns = ['Наименование изделия', 'ТГ', 'Итоговая цена за изделие с промокодами и бонусными рублями', 'Рейтинг', 'Минимальная цена за штуку среди конкурентов', 'Максимальная цена за штуку среди конкурентов']"
   ]
  },
  {
   "cell_type": "code",
   "execution_count": 80,
   "metadata": {},
   "outputs": [],
   "source": [
    "current['Дата'] = current_datetime\n",
    "current['Дата'] = pd.to_datetime(current['Дата'].apply(lambda x: x.strftime(\"%Y-%m-%d\")))"
   ]
  },
  {
   "cell_type": "code",
   "execution_count": 81,
   "metadata": {},
   "outputs": [],
   "source": [
    "result = pd.concat([previous, current], ignore_index=True)\n",
    "result.to_csv('page_4.csv', index = False)"
   ]
  },
  {
   "cell_type": "code",
   "execution_count": null,
   "metadata": {},
   "outputs": [],
   "source": []
  }
 ],
 "metadata": {
  "kernelspec": {
   "display_name": "Python 3",
   "language": "python",
   "name": "python3"
  },
  "language_info": {
   "codemirror_mode": {
    "name": "ipython",
    "version": 3
   },
   "file_extension": ".py",
   "mimetype": "text/x-python",
   "name": "python",
   "nbconvert_exporter": "python",
   "pygments_lexer": "ipython3",
   "version": "3.12.0"
  }
 },
 "nbformat": 4,
 "nbformat_minor": 2
}
